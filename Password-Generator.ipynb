{
 "cells": [
  {
   "cell_type": "code",
   "execution_count": 1,
   "id": "fec80afb",
   "metadata": {},
   "outputs": [],
   "source": [
    "import string\n",
    "import random"
   ]
  },
  {
   "cell_type": "code",
   "execution_count": 2,
   "id": "c68d1677",
   "metadata": {},
   "outputs": [],
   "source": [
    "letters=string.ascii_letters\n",
    "digits = string.digits\n",
    "special_chars = string.punctuation"
   ]
  },
  {
   "cell_type": "code",
   "execution_count": 3,
   "id": "fac84841",
   "metadata": {},
   "outputs": [],
   "source": [
    "combined=letters+digits+special_chars"
   ]
  },
  {
   "cell_type": "code",
   "execution_count": 7,
   "id": "da24fbae",
   "metadata": {},
   "outputs": [
    {
     "name": "stdout",
     "output_type": "stream",
     "text": [
      "Enter the length of password:8\n",
      "The generated password: aRC*o(dj"
     ]
    }
   ],
   "source": [
    "password_length=int(input(\"Enter the length of password:\"))\n",
    "pwd=''\n",
    "for i in range(password_length):\n",
    "    password=random.choice(combined)\n",
    "    pwd+=password\n",
    "print(\"The generated password:\",pwd,end='')    "
   ]
  },
  {
   "cell_type": "code",
   "execution_count": 21,
   "id": "619032e5",
   "metadata": {},
   "outputs": [
    {
     "name": "stdout",
     "output_type": "stream",
     "text": [
      "6CZ%eF<@QviN\n"
     ]
    }
   ],
   "source": []
  },
  {
   "cell_type": "code",
   "execution_count": null,
   "id": "4d361ebe",
   "metadata": {},
   "outputs": [],
   "source": []
  }
 ],
 "metadata": {
  "kernelspec": {
   "display_name": "Python 3 (ipykernel)",
   "language": "python",
   "name": "python3"
  },
  "language_info": {
   "codemirror_mode": {
    "name": "ipython",
    "version": 3
   },
   "file_extension": ".py",
   "mimetype": "text/x-python",
   "name": "python",
   "nbconvert_exporter": "python",
   "pygments_lexer": "ipython3",
   "version": "3.11.4"
  }
 },
 "nbformat": 4,
 "nbformat_minor": 5
}
