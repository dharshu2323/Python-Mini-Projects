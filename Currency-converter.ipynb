{
 "cells": [
  {
   "cell_type": "code",
   "execution_count": 2,
   "id": "4522d0c7",
   "metadata": {},
   "outputs": [
    {
     "name": "stdout",
     "output_type": "stream",
     "text": [
      "Collecting forex-python\n",
      "  Downloading forex_python-1.8-py3-none-any.whl (8.2 kB)\n",
      "Requirement already satisfied: requests in c:\\users\\dhars\\anaconda3\\lib\\site-packages (from forex-python) (2.31.0)\n",
      "Collecting simplejson (from forex-python)\n",
      "  Obtaining dependency information for simplejson from https://files.pythonhosted.org/packages/b6/8e/3e12d122dfdf549a8d12eaf39954ee39f2027060aa38b63430f8ab3244e7/simplejson-3.19.2-cp311-cp311-win_amd64.whl.metadata\n",
      "  Downloading simplejson-3.19.2-cp311-cp311-win_amd64.whl.metadata (3.2 kB)\n",
      "Requirement already satisfied: charset-normalizer<4,>=2 in c:\\users\\dhars\\anaconda3\\lib\\site-packages (from requests->forex-python) (2.0.4)\n",
      "Requirement already satisfied: idna<4,>=2.5 in c:\\users\\dhars\\anaconda3\\lib\\site-packages (from requests->forex-python) (3.4)\n",
      "Requirement already satisfied: urllib3<3,>=1.21.1 in c:\\users\\dhars\\anaconda3\\lib\\site-packages (from requests->forex-python) (1.26.16)\n",
      "Requirement already satisfied: certifi>=2017.4.17 in c:\\users\\dhars\\anaconda3\\lib\\site-packages (from requests->forex-python) (2023.11.17)\n",
      "Downloading simplejson-3.19.2-cp311-cp311-win_amd64.whl (75 kB)\n",
      "   ---------------------------------------- 0.0/75.3 kB ? eta -:--:--\n",
      "   ---------------------------------------- 75.3/75.3 kB 4.1 MB/s eta 0:00:00\n",
      "Installing collected packages: simplejson, forex-python\n",
      "Successfully installed forex-python-1.8 simplejson-3.19.2\n",
      "Note: you may need to restart the kernel to use updated packages.\n"
     ]
    }
   ],
   "source": [
    "pip install forex-python"
   ]
  },
  {
   "cell_type": "code",
   "execution_count": 3,
   "id": "cafe4bac",
   "metadata": {},
   "outputs": [],
   "source": [
    "from forex_python.converter import CurrencyRates"
   ]
  },
  {
   "cell_type": "code",
   "execution_count": 9,
   "id": "4343a307",
   "metadata": {},
   "outputs": [
    {
     "name": "stdout",
     "output_type": "stream",
     "text": [
      "Please enter the amount: 3\n",
      "Please enter the currency code that has to be converted: usd\n",
      "Please enter the currency code to convert: eur\n",
      "You are converting 3 USD to EUR\n",
      "The converted rate is: 2.8116213683223994\n"
     ]
    }
   ],
   "source": [
    "cr = CurrencyRates()\n",
    "amt = int(input(\"Please enter the amount: \"))\n",
    "from_currency = input(\"Please enter the currency code that has to be converted: \").upper()\n",
    "to_currency = input(\"Please enter the currency code to convert: \").upper()\n",
    "print(\"You are converting\", amt, from_currency, \"to\", to_currency)\n",
    "output = cr.convert(from_currency,to_currency,amt)\n",
    "print(\"The converted rate is:\", output)"
   ]
  },
  {
   "cell_type": "markdown",
   "id": "8cb6e528",
   "metadata": {},
   "source": [
    "## CURRENCY CODES"
   ]
  },
  {
   "cell_type": "markdown",
   "id": "5808a26a",
   "metadata": {},
   "source": [
    "<li>Indian Rupee: INR\n",
    "<li>Swedish Krona: SEK\n",
    "<li>Euro: EUR\n",
    "<li>British Pound Sterling: GBP\n",
    "<li>United States Dollar: USD\n",
    "<li>Japanese Yen: JPY\n",
    "<li>Canadian Dollar: CAD\n",
    "<li>Australian Dollar: AUD\n",
    "<li>Swiss Franc: CHF\n",
    "<li>Chinese Yuan Renminbi: CNY\n",
    "<li> Brazilian Real: BRL\n",
    "<li>South African Rand: ZAR\n",
    "<li>Russian Ruble: RUB\n",
    " <li>Norwegian Krone: NOK\n",
    "<li>Mexican Peso: MXN              \n",
    "                    "
   ]
  },
  {
   "cell_type": "code",
   "execution_count": null,
   "id": "36f805cf",
   "metadata": {},
   "outputs": [],
   "source": []
  }
 ],
 "metadata": {
  "kernelspec": {
   "display_name": "Python 3 (ipykernel)",
   "language": "python",
   "name": "python3"
  },
  "language_info": {
   "codemirror_mode": {
    "name": "ipython",
    "version": 3
   },
   "file_extension": ".py",
   "mimetype": "text/x-python",
   "name": "python",
   "nbconvert_exporter": "python",
   "pygments_lexer": "ipython3",
   "version": "3.11.4"
  }
 },
 "nbformat": 4,
 "nbformat_minor": 5
}
