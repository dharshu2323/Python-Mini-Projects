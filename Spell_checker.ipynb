{
 "cells": [
  {
   "cell_type": "code",
   "execution_count": 1,
   "id": "18c03de4",
   "metadata": {},
   "outputs": [
    {
     "name": "stdout",
     "output_type": "stream",
     "text": [
      "Collecting pyspellchecker\n",
      "  Downloading pyspellchecker-0.7.2-py3-none-any.whl (3.4 MB)\n",
      "     ---------------------------------------- 0.0/3.4 MB ? eta -:--:--\n",
      "     ---- ----------------------------------- 0.4/3.4 MB 12.2 MB/s eta 0:00:01\n",
      "     -------- ------------------------------- 0.8/3.4 MB 9.6 MB/s eta 0:00:01\n",
      "     ---------- ----------------------------- 0.9/3.4 MB 7.4 MB/s eta 0:00:01\n",
      "     ----------- ---------------------------- 1.0/3.4 MB 7.8 MB/s eta 0:00:01\n",
      "     ----------- ---------------------------- 1.0/3.4 MB 7.8 MB/s eta 0:00:01\n",
      "     -------------- ------------------------- 1.3/3.4 MB 4.8 MB/s eta 0:00:01\n",
      "     ----------------- ---------------------- 1.5/3.4 MB 4.7 MB/s eta 0:00:01\n",
      "     ------------------- -------------------- 1.7/3.4 MB 4.6 MB/s eta 0:00:01\n",
      "     --------------------- ------------------ 1.9/3.4 MB 4.5 MB/s eta 0:00:01\n",
      "     ----------------------- ---------------- 2.0/3.4 MB 4.4 MB/s eta 0:00:01\n",
      "     ----------------------- ---------------- 2.0/3.4 MB 4.4 MB/s eta 0:00:01\n",
      "     ----------------------- ---------------- 2.0/3.4 MB 4.4 MB/s eta 0:00:01\n",
      "     ----------------------- ---------------- 2.0/3.4 MB 3.7 MB/s eta 0:00:01\n",
      "     ---------------------------- ----------- 2.4/3.4 MB 3.8 MB/s eta 0:00:01\n",
      "     ---------------------------- ----------- 2.5/3.4 MB 3.6 MB/s eta 0:00:01\n",
      "     ------------------------------ --------- 2.6/3.4 MB 3.6 MB/s eta 0:00:01\n",
      "     ------------------------------ --------- 2.6/3.4 MB 3.6 MB/s eta 0:00:01\n",
      "     ------------------------------ --------- 2.6/3.4 MB 3.6 MB/s eta 0:00:01\n",
      "     ------------------------------- -------- 2.7/3.4 MB 3.1 MB/s eta 0:00:01\n",
      "     -------------------------------- ------- 2.8/3.4 MB 3.0 MB/s eta 0:00:01\n",
      "     --------------------------------- ------ 2.9/3.4 MB 3.0 MB/s eta 0:00:01\n",
      "     --------------------------------- ------ 2.9/3.4 MB 3.0 MB/s eta 0:00:01\n",
      "     ---------------------------------- ----- 2.9/3.4 MB 2.7 MB/s eta 0:00:01\n",
      "     ---------------------------------- ----- 2.9/3.4 MB 2.7 MB/s eta 0:00:01\n",
      "     ------------------------------------- -- 3.2/3.4 MB 2.8 MB/s eta 0:00:01\n",
      "     -------------------------------------- - 3.3/3.4 MB 2.7 MB/s eta 0:00:01\n",
      "     -------------------------------------- - 3.3/3.4 MB 2.6 MB/s eta 0:00:01\n",
      "     -------------------------------------- - 3.3/3.4 MB 2.6 MB/s eta 0:00:01\n",
      "     ---------------------------------------  3.4/3.4 MB 2.5 MB/s eta 0:00:01\n",
      "     ---------------------------------------- 3.4/3.4 MB 2.4 MB/s eta 0:00:00\n",
      "Installing collected packages: pyspellchecker\n",
      "Successfully installed pyspellchecker-0.7.2\n",
      "Note: you may need to restart the kernel to use updated packages.\n"
     ]
    }
   ],
   "source": [
    "pip install pyspellchecker"
   ]
  },
  {
   "cell_type": "code",
   "execution_count": 2,
   "id": "348045da",
   "metadata": {},
   "outputs": [],
   "source": [
    "from spellchecker import SpellChecker"
   ]
  },
  {
   "cell_type": "code",
   "execution_count": 6,
   "id": "02c52546",
   "metadata": {},
   "outputs": [],
   "source": [
    "corrector=SpellChecker()"
   ]
  },
  {
   "cell_type": "code",
   "execution_count": 8,
   "id": "fa474a29",
   "metadata": {},
   "outputs": [
    {
     "name": "stdout",
     "output_type": "stream",
     "text": [
      "Enter a Word : helo\n",
      "Correct Spelling is  help\n"
     ]
    }
   ],
   "source": [
    "word = input(\"Enter a Word : \")\n",
    "if word in corrector:\n",
    "    print(\"Correct\")\n",
    "else:\n",
    "    correct_word = corrector.correction(word)\n",
    "    print(\"Correct Spelling is \", correct_word)"
   ]
  },
  {
   "cell_type": "code",
   "execution_count": null,
   "id": "de42e12f",
   "metadata": {},
   "outputs": [],
   "source": []
  }
 ],
 "metadata": {
  "kernelspec": {
   "display_name": "Python 3 (ipykernel)",
   "language": "python",
   "name": "python3"
  },
  "language_info": {
   "codemirror_mode": {
    "name": "ipython",
    "version": 3
   },
   "file_extension": ".py",
   "mimetype": "text/x-python",
   "name": "python",
   "nbconvert_exporter": "python",
   "pygments_lexer": "ipython3",
   "version": "3.11.4"
  }
 },
 "nbformat": 4,
 "nbformat_minor": 5
}
